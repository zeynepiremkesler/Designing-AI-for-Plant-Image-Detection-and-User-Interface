{
  "nbformat": 4,
  "nbformat_minor": 0,
  "metadata": {
    "colab": {
      "provenance": [],
      "authorship_tag": "ABX9TyN6cybNu70j6R13eAEPQiLE",
      "include_colab_link": true
    },
    "kernelspec": {
      "name": "python3",
      "display_name": "Python 3"
    },
    "language_info": {
      "name": "python"
    },
    "accelerator": "TPU"
  },
  "cells": [
    {
      "cell_type": "markdown",
      "metadata": {
        "id": "view-in-github",
        "colab_type": "text"
      },
      "source": [
        "<a href=\"https://colab.research.google.com/github/zeynepiremkesler/Designing-AI-for-Plant-Image-Detection-and-User-Interface/blob/main/CNN_Model.ipynb\" target=\"_parent\"><img src=\"https://colab.research.google.com/assets/colab-badge.svg\" alt=\"Open In Colab\"/></a>"
      ]
    },
    {
      "cell_type": "code",
      "source": [
        "from google.colab import drive\n",
        "drive.mount('/content/drive')"
      ],
      "metadata": {
        "colab": {
          "base_uri": "https://localhost:8080/"
        },
        "id": "yiiVLl553W4N",
        "outputId": "fe5589d6-175e-403e-a47c-104b526fd964"
      },
      "execution_count": 10,
      "outputs": [
        {
          "output_type": "stream",
          "name": "stdout",
          "text": [
            "Mounted at /content/drive\n"
          ]
        }
      ]
    },
    {
      "cell_type": "code",
      "source": [
        "data_directory = \"/content/drive/MyDrive/dataset\"\n"
      ],
      "metadata": {
        "id": "ognvop7ys_no"
      },
      "execution_count": 11,
      "outputs": []
    },
    {
      "cell_type": "code",
      "source": [
        "%cd \"/content/drive/MyDrive/dataset\"\n"
      ],
      "metadata": {
        "colab": {
          "base_uri": "https://localhost:8080/"
        },
        "id": "npVLOoZQtGan",
        "outputId": "bc3f7d28-0bbf-4ef7-c269-77312613f555"
      },
      "execution_count": 12,
      "outputs": [
        {
          "output_type": "stream",
          "name": "stdout",
          "text": [
            "/content/drive/MyDrive/dataset\n"
          ]
        }
      ]
    },
    {
      "cell_type": "code",
      "source": [
        "import tensorflow as tf\n",
        "from tensorflow.keras import layers, models\n",
        "from sklearn.model_selection import train_test_split\n",
        "from tensorflow.keras.preprocessing.image import ImageDataGenerator\n",
        "import os"
      ],
      "metadata": {
        "id": "wPnBVZ0bDadO"
      },
      "execution_count": 13,
      "outputs": []
    },
    {
      "cell_type": "code",
      "source": [
        "datagen = ImageDataGenerator(rescale=1./255, validation_split=0.2)\n",
        "\n",
        "batch_size = 32"
      ],
      "metadata": {
        "id": "FU_Qjd3rqwzf"
      },
      "execution_count": 14,
      "outputs": []
    },
    {
      "cell_type": "code",
      "source": [
        "train_generator = datagen.flow_from_directory(\n",
        "    data_directory,\n",
        "    target_size=(224, 224),\n",
        "    batch_size=batch_size,\n",
        "    class_mode='categorical',\n",
        "    subset='training'\n",
        ")\n",
        "\n",
        "validation_generator = datagen.flow_from_directory(\n",
        "    data_directory,\n",
        "    target_size=(224, 224),\n",
        "    batch_size=batch_size,\n",
        "    class_mode='categorical',\n",
        "    subset='validation'\n",
        ")"
      ],
      "metadata": {
        "colab": {
          "base_uri": "https://localhost:8080/"
        },
        "id": "d_pd7n6Uq2Ln",
        "outputId": "b9fd0c98-f133-49a3-e829-53939289de45"
      },
      "execution_count": 15,
      "outputs": [
        {
          "output_type": "stream",
          "name": "stdout",
          "text": [
            "Found 710 images belonging to 4 classes.\n",
            "Found 176 images belonging to 4 classes.\n"
          ]
        }
      ]
    },
    {
      "cell_type": "code",
      "source": [
        "#CNN Modeli oluşturduk\n",
        "\n",
        "model = models.Sequential()\n",
        "model.add(layers.Conv2D(32, (3, 3), activation='relu', input_shape=(224, 224, 3)))\n",
        "model.add(layers.MaxPooling2D((2, 2)))\n",
        "model.add(layers.Conv2D(64, (3, 3), activation='relu'))\n",
        "model.add(layers.MaxPooling2D((2, 2)))\n",
        "model.add(layers.Conv2D(128, (3, 3), activation='relu'))\n",
        "model.add(layers.MaxPooling2D((2, 2)))\n",
        "model.add(layers.Flatten())\n",
        "model.add(layers.Dense(128, activation='relu'))\n",
        "model.add(layers.Dense(train_generator.num_classes, activation='softmax'))"
      ],
      "metadata": {
        "id": "qyqm_G2EgTQM"
      },
      "execution_count": 16,
      "outputs": []
    },
    {
      "cell_type": "code",
      "source": [
        "#Modelimizi compile ettik\n",
        "\n",
        "model.compile(optimizer='adam',\n",
        "              loss='categorical_crossentropy',\n",
        "              metrics=['accuracy'])"
      ],
      "metadata": {
        "id": "x_ecCIKJgVeN"
      },
      "execution_count": 18,
      "outputs": []
    },
    {
      "cell_type": "code",
      "source": [
        "#Modeli eğittim , epochs=10 aldık.\n",
        "\n",
        "history = model.fit(train_generator, epochs=10, validation_data=validation_generator)"
      ],
      "metadata": {
        "colab": {
          "base_uri": "https://localhost:8080/"
        },
        "id": "d3Krfbrdhk6m",
        "outputId": "59b603ed-d1d5-4920-e8a6-98fad7451e18"
      },
      "execution_count": 20,
      "outputs": [
        {
          "output_type": "stream",
          "name": "stdout",
          "text": [
            "Epoch 1/10\n",
            "23/23 [==============================] - 101s 4s/step - loss: 0.1749 - accuracy: 0.9408 - val_loss: 1.7783 - val_accuracy: 0.6364\n",
            "Epoch 2/10\n",
            "23/23 [==============================] - 93s 4s/step - loss: 0.1621 - accuracy: 0.9408 - val_loss: 2.5750 - val_accuracy: 0.6420\n",
            "Epoch 3/10\n",
            "23/23 [==============================] - 90s 4s/step - loss: 0.1619 - accuracy: 0.9423 - val_loss: 2.4808 - val_accuracy: 0.7045\n",
            "Epoch 4/10\n",
            "23/23 [==============================] - 92s 4s/step - loss: 0.1172 - accuracy: 0.9592 - val_loss: 2.7621 - val_accuracy: 0.7216\n",
            "Epoch 5/10\n",
            "23/23 [==============================] - 92s 4s/step - loss: 0.1103 - accuracy: 0.9577 - val_loss: 2.4337 - val_accuracy: 0.6932\n",
            "Epoch 6/10\n",
            "23/23 [==============================] - 92s 4s/step - loss: 0.0961 - accuracy: 0.9676 - val_loss: 2.6468 - val_accuracy: 0.6761\n",
            "Epoch 7/10\n",
            "23/23 [==============================] - 93s 4s/step - loss: 0.1044 - accuracy: 0.9620 - val_loss: 2.4367 - val_accuracy: 0.6875\n",
            "Epoch 8/10\n",
            "23/23 [==============================] - 92s 4s/step - loss: 0.0789 - accuracy: 0.9648 - val_loss: 2.7446 - val_accuracy: 0.6364\n",
            "Epoch 9/10\n",
            "23/23 [==============================] - 89s 4s/step - loss: 0.0902 - accuracy: 0.9606 - val_loss: 2.8897 - val_accuracy: 0.6761\n",
            "Epoch 10/10\n",
            "23/23 [==============================] - 92s 4s/step - loss: 0.0810 - accuracy: 0.9634 - val_loss: 2.6377 - val_accuracy: 0.6648\n"
          ]
        }
      ]
    },
    {
      "cell_type": "code",
      "source": [
        "import matplotlib.pyplot as plt"
      ],
      "metadata": {
        "id": "kaGYftBortPl"
      },
      "execution_count": 21,
      "outputs": []
    },
    {
      "cell_type": "code",
      "source": [
        "# Eğitim ve doğrulama loss'unun grafiğini çizme\n",
        "loss = history.history['loss']\n",
        "val_loss = history.history['val_loss']"
      ],
      "metadata": {
        "id": "aF-m18J86Vei"
      },
      "execution_count": 22,
      "outputs": []
    },
    {
      "cell_type": "code",
      "source": [
        "epochs = range(1, len(loss) + 1)"
      ],
      "metadata": {
        "id": "OlRhey4Q6Ziz"
      },
      "execution_count": 24,
      "outputs": []
    },
    {
      "cell_type": "code",
      "source": [
        "plt.figure(figsize=(12, 4))\n",
        "plt.subplot(1, 2, 1)\n",
        "plt.plot(epochs, loss, 'bo', label='Training loss')\n",
        "plt.plot(epochs, val_loss, 'b', label='Validation loss')\n",
        "plt.title('Training and Validation Loss')\n",
        "plt.xlabel('Epochs')\n",
        "plt.ylabel('Loss')\n",
        "plt.legend()"
      ],
      "metadata": {
        "colab": {
          "base_uri": "https://localhost:8080/",
          "height": 427
        },
        "id": "SFjg87j76bjT",
        "outputId": "000a6dca-8a62-43f1-9f13-6998ab1241a8"
      },
      "execution_count": 25,
      "outputs": [
        {
          "output_type": "execute_result",
          "data": {
            "text/plain": [
              "<matplotlib.legend.Legend at 0x7a7a576a6740>"
            ]
          },
          "metadata": {},
          "execution_count": 25
        },
        {
          "output_type": "display_data",
          "data": {
            "text/plain": [
              "<Figure size 1200x400 with 1 Axes>"
            ],
            "image/png": "[encoded data removed]"
          },
          "metadata": {}
        }
      ]
    },
    {
      "cell_type": "code",
      "source": [
        "# Eğitim ve doğrulama accuracy'nin grafiğini çizme\n",
        "acc = history.history['accuracy']\n",
        "val_acc = history.history['val_accuracy']"
      ],
      "metadata": {
        "id": "SmMZ1M6j6dIr"
      },
      "execution_count": 26,
      "outputs": []
    },
    {
      "cell_type": "code",
      "source": [
        "plt.subplot(1, 2, 2)\n",
        "plt.plot(epochs, acc, 'bo', label='Training accuracy')\n",
        "plt.plot(epochs, val_acc, 'b', label='Validation accuracy')\n",
        "plt.title('Training and Validation Accuracy')\n",
        "plt.xlabel('Epochs')\n",
        "plt.ylabel('Accuracy')\n",
        "plt.legend()\n",
        "\n",
        "plt.show()"
      ],
      "metadata": {
        "colab": {
          "base_uri": "https://localhost:8080/",
          "height": 472
        },
        "id": "AZY5D2SN6gIv",
        "outputId": "3e1d82c2-2e4d-41d8-e805-8541507ca385"
      },
      "execution_count": 27,
      "outputs": [
        {
          "output_type": "display_data",
          "data": {
            "text/plain": [
              "<Figure size 640x480 with 1 Axes>"
            ],
            "image/png": "[encoded data removed]"
          },
          "metadata": {}
        }
      ]
    },
    {
      "cell_type": "code",
      "source": [
        "# Create the test_generator variable\n",
        "test_generator = tf.keras.preprocessing.image.ImageDataGenerator()"
      ],
      "metadata": {
        "id": "jjeYI5Lw6v6V"
      },
      "execution_count": 30,
      "outputs": []
    },
    {
      "cell_type": "code",
      "source": [
        "# Now the test_generator variable is defined\n",
        "print(globals())"
      ],
      "metadata": {
        "colab": {
          "base_uri": "https://localhost:8080/"
        },
        "id": "mQLTfyHj60qB",
        "outputId": "d3cdfcba-d204-4f17-8c8c-a1b5d6f133a9"
      },
      "execution_count": 31,
      "outputs": [
        {
          "output_type": "stream",
          "name": "stdout",
          "text": [
            "{'__name__': '__main__', '__doc__': 'Automatically created module for IPython interactive environment', '__package__': None, '__loader__': None, '__spec__': None, '__builtin__': <module 'builtins' (built-in)>, '__builtins__': <module 'builtins' (built-in)>, '_ih': ['', \"get_ipython().system('uvicorn main:app --reload')\", \"get_ipython().system('uvicorn main:app --reload')\", 'pip install uvicorn', \"get_ipython().system('pip install uvicorn')\", \"get_ipython().system('uvicorn main:app --reload')\", \"get_ipython().system('uvicorn detection:app --reload')\", \"get_ipython().system('uvicorn detection.ipynb:app --reload')\", \"get_ipython().system('uvicorn content.detection:app --reload')\", \"#CNN Modeli oluşturduk\\n\\nmodel = models.Sequential()\\nmodel.add(layers.Conv2D(32, (3, 3), activation='relu', input_shape=(224, 224, 3)))\\nmodel.add(layers.MaxPooling2D((2, 2)))\\nmodel.add(layers.Conv2D(64, (3, 3), activation='relu'))\\nmodel.add(layers.MaxPooling2D((2, 2)))\\nmodel.add(layers.Conv2D(128, (3, 3), activation='relu'))\\nmodel.add(layers.MaxPooling2D((2, 2)))\\nmodel.add(layers.Flatten())\\nmodel.add(layers.Dense(128, activation='relu'))\\nmodel.add(layers.Dense(train_generator.num_classes, activation='softmax'))\", \"from google.colab import drive\\ndrive.mount('/content/drive')\", 'data_directory = \"/content/drive/MyDrive/dataset\"', 'get_ipython().run_line_magic(\\'cd\\', \\'\"/content/drive/MyDrive/dataset\"\\')', 'import tensorflow as tf\\nfrom tensorflow.keras import layers, models\\nfrom sklearn.model_selection import train_test_split\\nfrom tensorflow.keras.preprocessing.image import ImageDataGenerator\\nimport os', 'datagen = ImageDataGenerator(rescale=1./255, validation_split=0.2)\\n\\nbatch_size = 32', \"train_generator = datagen.flow_from_directory(\\n    data_directory,\\n    target_size=(224, 224),\\n    batch_size=batch_size,\\n    class_mode='categorical',\\n    subset='training'\\n)\\n\\nvalidation_generator = datagen.flow_from_directory(\\n    data_directory,\\n    target_size=(224, 224),\\n    batch_size=batch_size,\\n    class_mode='categorical',\\n    subset='validation'\\n)\", \"#CNN Modeli oluşturduk\\n\\nmodel = models.Sequential()\\nmodel.add(layers.Conv2D(32, (3, 3), activation='relu', input_shape=(224, 224, 3)))\\nmodel.add(layers.MaxPooling2D((2, 2)))\\nmodel.add(layers.Conv2D(64, (3, 3), activation='relu'))\\nmodel.add(layers.MaxPooling2D((2, 2)))\\nmodel.add(layers.Conv2D(128, (3, 3), activation='relu'))\\nmodel.add(layers.MaxPooling2D((2, 2)))\\nmodel.add(layers.Flatten())\\nmodel.add(layers.Dense(128, activation='relu'))\\nmodel.add(layers.Dense(train_generator.num_classes, activation='softmax'))\", \"model.compile(optimizer='adam',\\n              loss='categorical_crossentropy',\\n              metrics=['accuracy'])\", \"#Modelimizi compile ettik\\n\\nmodel.compile(optimizer='adam',\\n              loss='categorical_crossentropy',\\n              metrics=['accuracy'])\", '#Modeli eğittim , epochs=10 aldım.\\n\\nhistory = model.fit(train_generator, epochs=10, validation_data=validation_generator)', '#Modeli eğittim , epochs=10 aldık.\\n\\nhistory = model.fit(train_generator, epochs=10, validation_data=validation_generator)', 'import matplotlib.pyplot as plt', \"# Eğitim ve doğrulama loss'unun grafiğini çizme\\nloss = history.history['loss']\\nval_loss = history.history['val_loss']\", 'epochs = range(1, len(loss) + 1)', 'epochs = range(1, len(loss) + 1)', \"plt.figure(figsize=(12, 4))\\nplt.subplot(1, 2, 1)\\nplt.plot(epochs, loss, 'bo', label='Training loss')\\nplt.plot(epochs, val_loss, 'b', label='Validation loss')\\nplt.title('Training and Validation Loss')\\nplt.xlabel('Epochs')\\nplt.ylabel('Loss')\\nplt.legend()\", \"# Eğitim ve doğrulama accuracy'nin grafiğini çizme\\nacc = history.history['accuracy']\\nval_acc = history.history['val_accuracy']\", \"plt.subplot(1, 2, 2)\\nplt.plot(epochs, acc, 'bo', label='Training accuracy')\\nplt.plot(epochs, val_acc, 'b', label='Validation accuracy')\\nplt.title('Training and Validation Accuracy')\\nplt.xlabel('Epochs')\\nplt.ylabel('Accuracy')\\nplt.legend()\\n\\nplt.show()\", '# Create the test_generator variable\\ntest_generator = tf.keras.preprocessing.image.ImageDataGenerator()', '# Now the test_generator variable is defined\\nprint(globals())', '# Create the test_generator variable\\ntest_generator = tf.keras.preprocessing.image.ImageDataGenerator()', '# Now the test_generator variable is defined\\nprint(globals())'], '_oh': {25: <matplotlib.legend.Legend object at 0x7a7a576a6740>}, '_dh': ['/content', '/content/drive/MyDrive/dataset'], 'In': ['', \"get_ipython().system('uvicorn main:app --reload')\", \"get_ipython().system('uvicorn main:app --reload')\", 'pip install uvicorn', \"get_ipython().system('pip install uvicorn')\", \"get_ipython().system('uvicorn main:app --reload')\", \"get_ipython().system('uvicorn detection:app --reload')\", \"get_ipython().system('uvicorn detection.ipynb:app --reload')\", \"get_ipython().system('uvicorn content.detection:app --reload')\", \"#CNN Modeli oluşturduk\\n\\nmodel = models.Sequential()\\nmodel.add(layers.Conv2D(32, (3, 3), activation='relu', input_shape=(224, 224, 3)))\\nmodel.add(layers.MaxPooling2D((2, 2)))\\nmodel.add(layers.Conv2D(64, (3, 3), activation='relu'))\\nmodel.add(layers.MaxPooling2D((2, 2)))\\nmodel.add(layers.Conv2D(128, (3, 3), activation='relu'))\\nmodel.add(layers.MaxPooling2D((2, 2)))\\nmodel.add(layers.Flatten())\\nmodel.add(layers.Dense(128, activation='relu'))\\nmodel.add(layers.Dense(train_generator.num_classes, activation='softmax'))\", \"from google.colab import drive\\ndrive.mount('/content/drive')\", 'data_directory = \"/content/drive/MyDrive/dataset\"', 'get_ipython().run_line_magic(\\'cd\\', \\'\"/content/drive/MyDrive/dataset\"\\')', 'import tensorflow as tf\\nfrom tensorflow.keras import layers, models\\nfrom sklearn.model_selection import train_test_split\\nfrom tensorflow.keras.preprocessing.image import ImageDataGenerator\\nimport os', 'datagen = ImageDataGenerator(rescale=1./255, validation_split=0.2)\\n\\nbatch_size = 32', \"train_generator = datagen.flow_from_directory(\\n    data_directory,\\n    target_size=(224, 224),\\n    batch_size=batch_size,\\n    class_mode='categorical',\\n    subset='training'\\n)\\n\\nvalidation_generator = datagen.flow_from_directory(\\n    data_directory,\\n    target_size=(224, 224),\\n    batch_size=batch_size,\\n    class_mode='categorical',\\n    subset='validation'\\n)\", \"#CNN Modeli oluşturduk\\n\\nmodel = models.Sequential()\\nmodel.add(layers.Conv2D(32, (3, 3), activation='relu', input_shape=(224, 224, 3)))\\nmodel.add(layers.MaxPooling2D((2, 2)))\\nmodel.add(layers.Conv2D(64, (3, 3), activation='relu'))\\nmodel.add(layers.MaxPooling2D((2, 2)))\\nmodel.add(layers.Conv2D(128, (3, 3), activation='relu'))\\nmodel.add(layers.MaxPooling2D((2, 2)))\\nmodel.add(layers.Flatten())\\nmodel.add(layers.Dense(128, activation='relu'))\\nmodel.add(layers.Dense(train_generator.num_classes, activation='softmax'))\", \"model.compile(optimizer='adam',\\n              loss='categorical_crossentropy',\\n              metrics=['accuracy'])\", \"#Modelimizi compile ettik\\n\\nmodel.compile(optimizer='adam',\\n              loss='categorical_crossentropy',\\n              metrics=['accuracy'])\", '#Modeli eğittim , epochs=10 aldım.\\n\\nhistory = model.fit(train_generator, epochs=10, validation_data=validation_generator)', '#Modeli eğittim , epochs=10 aldık.\\n\\nhistory = model.fit(train_generator, epochs=10, validation_data=validation_generator)', 'import matplotlib.pyplot as plt', \"# Eğitim ve doğrulama loss'unun grafiğini çizme\\nloss = history.history['loss']\\nval_loss = history.history['val_loss']\", 'epochs = range(1, len(loss) + 1)', 'epochs = range(1, len(loss) + 1)', \"plt.figure(figsize=(12, 4))\\nplt.subplot(1, 2, 1)\\nplt.plot(epochs, loss, 'bo', label='Training loss')\\nplt.plot(epochs, val_loss, 'b', label='Validation loss')\\nplt.title('Training and Validation Loss')\\nplt.xlabel('Epochs')\\nplt.ylabel('Loss')\\nplt.legend()\", \"# Eğitim ve doğrulama accuracy'nin grafiğini çizme\\nacc = history.history['accuracy']\\nval_acc = history.history['val_accuracy']\", \"plt.subplot(1, 2, 2)\\nplt.plot(epochs, acc, 'bo', label='Training accuracy')\\nplt.plot(epochs, val_acc, 'b', label='Validation accuracy')\\nplt.title('Training and Validation Accuracy')\\nplt.xlabel('Epochs')\\nplt.ylabel('Accuracy')\\nplt.legend()\\n\\nplt.show()\", '# Create the test_generator variable\\ntest_generator = tf.keras.preprocessing.image.ImageDataGenerator()', '# Now the test_generator variable is defined\\nprint(globals())', '# Create the test_generator variable\\ntest_generator = tf.keras.preprocessing.image.ImageDataGenerator()', '# Now the test_generator variable is defined\\nprint(globals())'], 'Out': {25: <matplotlib.legend.Legend object at 0x7a7a576a6740>}, 'get_ipython': <bound method InteractiveShell.get_ipython of <google.colab._shell.Shell object at 0x7a7b0c64bb20>>, 'exit': <IPython.core.autocall.ZMQExitAutocall object at 0x7a7b0c690100>, 'quit': <IPython.core.autocall.ZMQExitAutocall object at 0x7a7b0c690100>, '_': <matplotlib.legend.Legend object at 0x7a7a576a6740>, '__': '', '___': '', '_i': '# Create the test_generator variable\\ntest_generator = tf.keras.preprocessing.image.ImageDataGenerator()', '_ii': '# Now the test_generator variable is defined\\nprint(globals())', '_iii': '# Create the test_generator variable\\ntest_generator = tf.keras.preprocessing.image.ImageDataGenerator()', '_i1': '!uvicorn main:app --reload', '_exit_code': -2, '_i2': '!uvicorn main:app --reload', '_i3': 'pip install uvicorn', '_i4': '!pip install uvicorn', '_i5': '!uvicorn main:app --reload', '_i6': '!uvicorn detection:app --reload', '_i7': '!uvicorn detection.ipynb:app --reload', '_i8': '!uvicorn content.detection:app --reload', '_i9': \"#CNN Modeli oluşturduk\\n\\nmodel = models.Sequential()\\nmodel.add(layers.Conv2D(32, (3, 3), activation='relu', input_shape=(224, 224, 3)))\\nmodel.add(layers.MaxPooling2D((2, 2)))\\nmodel.add(layers.Conv2D(64, (3, 3), activation='relu'))\\nmodel.add(layers.MaxPooling2D((2, 2)))\\nmodel.add(layers.Conv2D(128, (3, 3), activation='relu'))\\nmodel.add(layers.MaxPooling2D((2, 2)))\\nmodel.add(layers.Flatten())\\nmodel.add(layers.Dense(128, activation='relu'))\\nmodel.add(layers.Dense(train_generator.num_classes, activation='softmax'))\", '_i10': \"from google.colab import drive\\ndrive.mount('/content/drive')\", 'drive': <module 'google.colab.drive' from '/usr/local/lib/python3.10/dist-packages/google/colab/drive.py'>, '_i11': 'data_directory = \"/content/drive/MyDrive/dataset\"', 'data_directory': '/content/drive/MyDrive/dataset', '_i12': '%cd \"/content/drive/MyDrive/dataset\"', '_i13': 'import tensorflow as tf\\nfrom tensorflow.keras import layers, models\\nfrom sklearn.model_selection import train_test_split\\nfrom tensorflow.keras.preprocessing.image import ImageDataGenerator\\nimport os', 'tf': <module 'tensorflow' from '/usr/local/lib/python3.10/dist-packages/tensorflow/__init__.py'>, 'layers': <module 'keras.api._v2.keras.layers' from '/usr/local/lib/python3.10/dist-packages/keras/api/_v2/keras/layers/__init__.py'>, 'models': <module 'keras.api._v2.keras.models' from '/usr/local/lib/python3.10/dist-packages/keras/api/_v2/keras/models/__init__.py'>, 'train_test_split': <function train_test_split at 0x7a7a73b74f70>, 'ImageDataGenerator': <class 'keras.src.preprocessing.image.ImageDataGenerator'>, 'os': <module 'os' from '/usr/lib/python3.10/os.py'>, '_i14': 'datagen = ImageDataGenerator(rescale=1./255, validation_split=0.2)\\n\\nbatch_size = 32', 'datagen': <keras.src.preprocessing.image.ImageDataGenerator object at 0x7a7a7393a530>, 'batch_size': 32, '_i15': \"train_generator = datagen.flow_from_directory(\\n    data_directory,\\n    target_size=(224, 224),\\n    batch_size=batch_size,\\n    class_mode='categorical',\\n    subset='training'\\n)\\n\\nvalidation_generator = datagen.flow_from_directory(\\n    data_directory,\\n    target_size=(224, 224),\\n    batch_size=batch_size,\\n    class_mode='categorical',\\n    subset='validation'\\n)\", 'train_generator': <keras.src.preprocessing.image.DirectoryIterator object at 0x7a7a7393ad70>, 'validation_generator': <keras.src.preprocessing.image.DirectoryIterator object at 0x7a7afb2ed510>, '_i16': \"#CNN Modeli oluşturduk\\n\\nmodel = models.Sequential()\\nmodel.add(layers.Conv2D(32, (3, 3), activation='relu', input_shape=(224, 224, 3)))\\nmodel.add(layers.MaxPooling2D((2, 2)))\\nmodel.add(layers.Conv2D(64, (3, 3), activation='relu'))\\nmodel.add(layers.MaxPooling2D((2, 2)))\\nmodel.add(layers.Conv2D(128, (3, 3), activation='relu'))\\nmodel.add(layers.MaxPooling2D((2, 2)))\\nmodel.add(layers.Flatten())\\nmodel.add(layers.Dense(128, activation='relu'))\\nmodel.add(layers.Dense(train_generator.num_classes, activation='softmax'))\", 'model': <keras.src.engine.sequential.Sequential object at 0x7a7a7393aa70>, '_i17': \"model.compile(optimizer='adam',\\n              loss='categorical_crossentropy',\\n              metrics=['accuracy'])\", '_i18': \"#Modelimizi compile ettik\\n\\nmodel.compile(optimizer='adam',\\n              loss='categorical_crossentropy',\\n              metrics=['accuracy'])\", '_i19': '#Modeli eğittim , epochs=10 aldım.\\n\\nhistory = model.fit(train_generator, epochs=10, validation_data=validation_generator)', 'history': <keras.src.callbacks.History object at 0x7a7a5762ec80>, '_i20': '#Modeli eğittim , epochs=10 aldık.\\n\\nhistory = model.fit(train_generator, epochs=10, validation_data=validation_generator)', '_i21': 'import matplotlib.pyplot as plt', 'plt': <module 'matplotlib.pyplot' from '/usr/local/lib/python3.10/dist-packages/matplotlib/pyplot.py'>, '_i22': \"# Eğitim ve doğrulama loss'unun grafiğini çizme\\nloss = history.history['loss']\\nval_loss = history.history['val_loss']\", 'loss': [0.17489629983901978, 0.16211074590682983, 0.16194359958171844, 0.11716266721487045, 0.11029929667711258, 0.09612849354743958, 0.10440569370985031, 0.07891488075256348, 0.09021144360303879, 0.08100923150777817], 'val_loss': [1.7782931327819824, 2.5750341415405273, 2.4808082580566406, 2.7620761394500732, 2.4337422847747803, 2.646779775619507, 2.436710834503174, 2.74464750289917, 2.889739751815796, 2.6376700401306152], '_i23': 'epochs = range(1, len(loss) + 1)', 'epochs': range(1, 11), '_i24': 'epochs = range(1, len(loss) + 1)', '_i25': \"plt.figure(figsize=(12, 4))\\nplt.subplot(1, 2, 1)\\nplt.plot(epochs, loss, 'bo', label='Training loss')\\nplt.plot(epochs, val_loss, 'b', label='Validation loss')\\nplt.title('Training and Validation Loss')\\nplt.xlabel('Epochs')\\nplt.ylabel('Loss')\\nplt.legend()\", '_25': <matplotlib.legend.Legend object at 0x7a7a576a6740>, '_i26': \"# Eğitim ve doğrulama accuracy'nin grafiğini çizme\\nacc = history.history['accuracy']\\nval_acc = history.history['val_accuracy']\", 'acc': [0.9408450722694397, 0.9408450722694397, 0.9422535300254822, 0.9591549038887024, 0.9577465057373047, 0.9676056504249573, 0.9619718194007874, 0.9647887349128723, 0.9605633616447449, 0.9633802771568298], 'val_acc': [0.6363636255264282, 0.6420454382896423, 0.7045454382896423, 0.7215909361839294, 0.6931818127632141, 0.6761363744735718, 0.6875, 0.6363636255264282, 0.6761363744735718, 0.6647727489471436], '_i27': \"plt.subplot(1, 2, 2)\\nplt.plot(epochs, acc, 'bo', label='Training accuracy')\\nplt.plot(epochs, val_acc, 'b', label='Validation accuracy')\\nplt.title('Training and Validation Accuracy')\\nplt.xlabel('Epochs')\\nplt.ylabel('Accuracy')\\nplt.legend()\\n\\nplt.show()\", '_i28': '# Create the test_generator variable\\ntest_generator = tf.keras.preprocessing.image.ImageDataGenerator()', 'test_generator': <keras.src.preprocessing.image.ImageDataGenerator object at 0x7a7a63f5b790>, '_i29': '# Now the test_generator variable is defined\\nprint(globals())', '_i30': '# Create the test_generator variable\\ntest_generator = tf.keras.preprocessing.image.ImageDataGenerator()', '_i31': '# Now the test_generator variable is defined\\nprint(globals())'}\n"
          ]
        }
      ]
    },
    {
      "cell_type": "code",
      "source": [
        "# Veri setinizin bulunduğu dizini belirtin\n",
        "test_data_directory = \"/content/drive/MyDrive/dataset\"\n",
        "\n",
        "# Test veri setini yükleyin ve ön işleme yapın\n",
        "test_datagen = ImageDataGenerator(rescale=1./255)\n",
        "\n",
        "test_generator = test_datagen.flow_from_directory(\n",
        "    test_data_directory,\n",
        "    target_size=(224, 224),\n",
        "    batch_size=batch_size,\n",
        "    class_mode='categorical'  # Eğer etiketleriniz kategorik ise bu parametreyi bu şekilde bırakabilirsiniz\n",
        ")\n",
        "\n",
        "# Modeli test verisiyle değerlendirme\n",
        "test_loss, test_acc = model.evaluate(test_generator)\n",
        "print(f'Test Loss: {test_loss}, Test Accuracy: {test_acc}')"
      ],
      "metadata": {
        "colab": {
          "base_uri": "https://localhost:8080/"
        },
        "id": "MldezprK6jIw",
        "outputId": "880a72c8-b2de-4eb5-db32-0b4418a41109"
      },
      "execution_count": 32,
      "outputs": [
        {
          "output_type": "stream",
          "name": "stdout",
          "text": [
            "Found 886 images belonging to 4 classes.\n",
            "28/28 [==============================] - 36s 1s/step - loss: 0.5653 - accuracy: 0.9165\n",
            "Test Loss: 0.5652610063552856, Test Accuracy: 0.9164785742759705\n"
          ]
        }
      ]
    },
    {
      "cell_type": "code",
      "source": [
        "import numpy as np\n",
        "from tensorflow.keras.preprocessing import image\n",
        "\n",
        "# Örnek bir görüntüyü model ile tahmin etme\n",
        "sample_image_path = \"/content/drive/MyDrive/dataset1/test/img_8.jpg\"\n",
        "img = image.load_img(sample_image_path, target_size=(224, 224))\n",
        "img_array = image.img_to_array(img)\n",
        "img_array = np.expand_dims(img_array, axis=0)  # Bir batch boyutu ekleyin\n",
        "\n",
        "predictions = model.predict(img_array)\n",
        "predicted_class = np.argmax(predictions[0])\n",
        "\n",
        "print(f\"Predicted Class: {predicted_class}\")\n",
        "\n"
      ],
      "metadata": {
        "colab": {
          "base_uri": "https://localhost:8080/"
        },
        "id": "x1STQFu_6nAF",
        "outputId": "bd9f8cdd-913b-43ba-dca0-331d1f12112d"
      },
      "execution_count": 33,
      "outputs": [
        {
          "output_type": "stream",
          "name": "stdout",
          "text": [
            "1/1 [==============================] - 0s 176ms/step\n",
            "Predicted Class: 2\n"
          ]
        }
      ]
    },
    {
      "cell_type": "code",
      "source": [
        "# Modeli kaydet\n",
        "model.save('facetracker', save_format='tf')"
      ],
      "metadata": {
        "id": "2_cfRN5KVDiC"
      },
      "execution_count": null,
      "outputs": []
    },
    {
      "cell_type": "code",
      "source": [
        "from fastapi import FastAPI, File, UploadFile, HTTPException\n",
        "from fastapi.responses import HTMLResponse\n",
        "from fastapi.templating import Jinja2Templates\n",
        "from starlette.middleware.cors import CORSMiddleware\n",
        "from tensorflow.keras.models import load_model\n",
        "from tensorflow.keras.preprocessing import image\n",
        "import numpy as np"
      ],
      "metadata": {
        "id": "y_Y3ZK5zHwFk"
      },
      "execution_count": 40,
      "outputs": []
    },
    {
      "cell_type": "code",
      "source": [
        "app = FastAPI()"
      ],
      "metadata": {
        "id": "biRebiuWH2n1"
      },
      "execution_count": 41,
      "outputs": []
    },
    {
      "cell_type": "code",
      "source": [
        "# CORS middleware ile tüm kaynaklara erişime izin ver\n",
        "app.add_middleware(\n",
        "    CORSMiddleware,\n",
        "    allow_origins=[\"*\"],\n",
        "    allow_credentials=True,\n",
        "    allow_methods=[\"*\"],\n",
        "    allow_headers=[\"*\"],\n",
        ")"
      ],
      "metadata": {
        "id": "vvzDS4cXJ5Y-"
      },
      "execution_count": 42,
      "outputs": []
    },
    {
      "cell_type": "code",
      "source": [
        "# HTML şablonları için Jinja2Templates kullanma\n",
        "templates = Jinja2Templates(directory=\"templates\")"
      ],
      "metadata": {
        "id": "A2tK6xfiJ7Hu"
      },
      "execution_count": 43,
      "outputs": []
    },
    {
      "cell_type": "code",
      "source": [
        "# Eğitilmiş modeli yükle\n",
        "model = load_model('/content/drive/MyDrive/models/my_model.h5')"
      ],
      "metadata": {
        "id": "hOS8XfIVJ9h-"
      },
      "execution_count": 44,
      "outputs": []
    },
    {
      "cell_type": "code",
      "source": [
        "!pip install fastapi"
      ],
      "metadata": {
        "colab": {
          "base_uri": "https://localhost:8080/"
        },
        "id": "F2S0uXETKOsD",
        "outputId": "44b61a23-0a5d-45cf-d357-3414b1f5ab12"
      },
      "execution_count": 46,
      "outputs": [
        {
          "output_type": "stream",
          "name": "stdout",
          "text": [
            "Requirement already satisfied: fastapi in /usr/local/lib/python3.10/dist-packages (0.109.2)\n",
            "Requirement already satisfied: pydantic!=1.8,!=1.8.1,!=2.0.0,!=2.0.1,!=2.1.0,<3.0.0,>=1.7.4 in /usr/local/lib/python3.10/dist-packages (from fastapi) (2.6.1)\n",
            "Requirement already satisfied: starlette<0.37.0,>=0.36.3 in /usr/local/lib/python3.10/dist-packages (from fastapi) (0.36.3)\n",
            "Requirement already satisfied: typing-extensions>=4.8.0 in /usr/local/lib/python3.10/dist-packages (from fastapi) (4.9.0)\n",
            "Requirement already satisfied: annotated-types>=0.4.0 in /usr/local/lib/python3.10/dist-packages (from pydantic!=1.8,!=1.8.1,!=2.0.0,!=2.0.1,!=2.1.0,<3.0.0,>=1.7.4->fastapi) (0.6.0)\n",
            "Requirement already satisfied: pydantic-core==2.16.2 in /usr/local/lib/python3.10/dist-packages (from pydantic!=1.8,!=1.8.1,!=2.0.0,!=2.0.1,!=2.1.0,<3.0.0,>=1.7.4->fastapi) (2.16.2)\n",
            "Requirement already satisfied: anyio<5,>=3.4.0 in /usr/local/lib/python3.10/dist-packages (from starlette<0.37.0,>=0.36.3->fastapi) (3.7.1)\n",
            "Requirement already satisfied: idna>=2.8 in /usr/local/lib/python3.10/dist-packages (from anyio<5,>=3.4.0->starlette<0.37.0,>=0.36.3->fastapi) (3.6)\n",
            "Requirement already satisfied: sniffio>=1.1 in /usr/local/lib/python3.10/dist-packages (from anyio<5,>=3.4.0->starlette<0.37.0,>=0.36.3->fastapi) (1.3.0)\n",
            "Requirement already satisfied: exceptiongroup in /usr/local/lib/python3.10/dist-packages (from anyio<5,>=3.4.0->starlette<0.37.0,>=0.36.3->fastapi) (1.2.0)\n"
          ]
        }
      ]
    },
    {
      "cell_type": "code",
      "source": [
        "#FastAPI bağlantısı kuruldu\n",
        "from fastapi import Request\n"
      ],
      "metadata": {
        "id": "TSN1Ts8sKjkW"
      },
      "execution_count": 59,
      "outputs": []
    },
    {
      "cell_type": "code",
      "source": [
        "from fastapi import FastAPI, File, UploadFile, HTTPException, Request\n",
        "from fastapi.responses import HTMLResponse\n",
        "from fastapi.templating import Jinja2Templates\n",
        "from starlette.middleware.cors import CORSMiddleware\n",
        "from tensorflow.keras.models import load_model\n",
        "from tensorflow.keras.preprocessing import image\n",
        "import numpy as np\n",
        "import io\n",
        "\n",
        "app = FastAPI()"
      ],
      "metadata": {
        "id": "8Pai64IuKmDv"
      },
      "execution_count": 55,
      "outputs": []
    },
    {
      "cell_type": "code",
      "source": [
        "@app.get(\"/\", response_class=HTMLResponse)\n",
        "async def read_item(request: Request):\n",
        "    # Örnek bir görüntü tahmin et\n",
        "    sample_image_path = \"/content/drive/MyDrive/dataset1/test/img_8.jpg\"\n",
        "    predicted_class = predict_image(sample_image_path)"
      ],
      "metadata": {
        "id": "zCW2M7PCOGQC"
      },
      "execution_count": 79,
      "outputs": []
    },
    {
      "cell_type": "code",
      "source": [
        "def index(request):\n",
        "    # ...\n",
        "    predicted_class = ...\n",
        "    # ...\n",
        "\n",
        "    return templates.TemplateResponse(\"index.html\", {\"request\": request, \"predicted_class\": predicted_class})"
      ],
      "metadata": {
        "id": "3m5jHSlSOLaP"
      },
      "execution_count": 81,
      "outputs": []
    },
    {
      "cell_type": "code",
      "source": [
        "\n",
        "@app.get(\"/\", response_class=HTMLResponse)\n",
        "async def read_item(request: Request):\n",
        "    return templates.TemplateResponse(\"index.html\", {\"request\": request})\n"
      ],
      "metadata": {
        "id": "qk6gC4oNJ_fE"
      },
      "execution_count": 82,
      "outputs": []
    },
    {
      "cell_type": "code",
      "source": [
        "\n",
        "@app.post(\"/predict\")\n",
        "async def create_upload_file(file: UploadFile = File(...)):\n",
        "    contents = await file.read()\n",
        "    img = Image.open(io.BytesIO(contents))\n",
        "    img_array = np.array(img.resize((224, 224))) / 255.0\n",
        "    img_array = np.expand_dims(img_array, axis=0)  # Batch boyutunu ekleyin\n",
        "    predictions = model.predict(img_array)\n",
        "    predicted_class = np.argmax(predictions[0])\n",
        "    return {\"class\": predicted_class, \"probabilities\": predictions[0].tolist()}"
      ],
      "metadata": {
        "id": "FP5icQPOKB6a"
      },
      "execution_count": 83,
      "outputs": []
    },
    {
      "cell_type": "code",
      "source": [
        "!uvicorn detection.ipynb:app --reload\n"
      ],
      "metadata": {
        "colab": {
          "base_uri": "https://localhost:8080/"
        },
        "id": "H7TsrHJCKwd5",
        "outputId": "5d265ace-5438-41bc-d883-407c9265cb5b"
      },
      "execution_count": 87,
      "outputs": [
        {
          "output_type": "stream",
          "name": "stdout",
          "text": [
            "\u001b[32mINFO\u001b[0m:     Will watch for changes in these directories: ['/content/drive/MyDrive/dataset']\n",
            "\u001b[32mINFO\u001b[0m:     Uvicorn running on \u001b[1mhttp://127.0.0.1:8000\u001b[0m (Press CTRL+C to quit)\n",
            "\u001b[32mINFO\u001b[0m:     Started reloader process [\u001b[36m\u001b[1m43835\u001b[0m] using \u001b[36m\u001b[1mWatchFiles\u001b[0m\n",
            "Process SpawnProcess-1:\n",
            "Traceback (most recent call last):\n",
            "  File \"/usr/lib/python3.10/multiprocessing/process.py\", line 314, in _bootstrap\n",
            "    self.run()\n",
            "  File \"/usr/lib/python3.10/multiprocessing/process.py\", line 108, in run\n",
            "    self._target(*self._args, **self._kwargs)\n",
            "  File \"/usr/local/lib/python3.10/dist-packages/uvicorn/_subprocess.py\", line 78, in subprocess_started\n",
            "    target(sockets=sockets)\n",
            "  File \"/usr/local/lib/python3.10/dist-packages/uvicorn/server.py\", line 62, in run\n",
            "    return asyncio.run(self.serve(sockets=sockets))\n",
            "  File \"/usr/lib/python3.10/asyncio/runners.py\", line 44, in run\n",
            "    return loop.run_until_complete(main)\n",
            "  File \"uvloop/loop.pyx\", line 1517, in uvloop.loop.Loop.run_until_complete\n",
            "  File \"/usr/local/lib/python3.10/dist-packages/uvicorn/server.py\", line 69, in serve\n",
            "    config.load()\n",
            "  File \"/usr/local/lib/python3.10/dist-packages/uvicorn/config.py\", line 458, in load\n",
            "    self.loaded_app = import_from_string(self.app)\n",
            "  File \"/usr/local/lib/python3.10/dist-packages/uvicorn/importer.py\", line 24, in import_from_string\n",
            "    raise exc from None\n",
            "  File \"/usr/local/lib/python3.10/dist-packages/uvicorn/importer.py\", line 21, in import_from_string\n",
            "    module = importlib.import_module(module_str)\n",
            "  File \"/usr/lib/python3.10/importlib/__init__.py\", line 126, in import_module\n",
            "    return _bootstrap._gcd_import(name[level:], package, level)\n",
            "  File \"<frozen importlib._bootstrap>\", line 1050, in _gcd_import\n",
            "  File \"<frozen importlib._bootstrap>\", line 1027, in _find_and_load\n",
            "  File \"<frozen importlib._bootstrap>\", line 992, in _find_and_load_unlocked\n",
            "  File \"<frozen importlib._bootstrap>\", line 241, in _call_with_frames_removed\n",
            "  File \"<frozen importlib._bootstrap>\", line 1050, in _gcd_import\n",
            "  File \"<frozen importlib._bootstrap>\", line 1027, in _find_and_load\n",
            "  File \"<frozen importlib._bootstrap>\", line 1004, in _find_and_load_unlocked\n",
            "ModuleNotFoundError: No module named 'detection'\n",
            "\u001b[32mINFO\u001b[0m:     Stopping reloader process [\u001b[36m\u001b[1m43835\u001b[0m]\n"
          ]
        }
      ]
    },
    {
      "cell_type": "code",
      "source": [],
      "metadata": {
        "id": "gmofwPj7MY5s"
      },
      "execution_count": null,
      "outputs": []
    }
  ]
}